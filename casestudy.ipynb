{
 "cells": [
  {
   "cell_type": "code",
   "execution_count": 2,
   "metadata": {},
   "outputs": [
    {
     "name": "stdout",
     "output_type": "stream",
     "text": [
      "The autoreload extension is already loaded. To reload it, use:\n",
      "  %reload_ext autoreload\n"
     ]
    }
   ],
   "source": [
    "from matplotlib import pyplot as plt\n",
    "%matplotlib inline \n",
    "%load_ext autoreload\n",
    "import train3\n",
    "import imageProcessor  \n",
    "from PIL import Image\n",
    "\n",
    "import numpy as np\n",
    "import model\n",
    "\n",
    "\n",
    "%autoreload 2"
   ]
  },
  {
   "cell_type": "code",
   "execution_count": 3,
   "metadata": {},
   "outputs": [],
   "source": [
    "# preprocess image before training\n",
    "# or skip this process if preprocessed folder exist\n",
    "#imageProcessor.main()   self.saver.save(self.sess, ./saver  + \"model.ckpt\")"
   ]
  },
  {
   "cell_type": "code",
   "execution_count": 4,
   "metadata": {},
   "outputs": [],
   "source": [
    "#del trainer # if one wants to run script again, This saves memory"
   ]
  },
  {
   "cell_type": "markdown",
   "metadata": {},
   "source": [
    "# Training "
   ]
  },
  {
   "cell_type": "code",
   "execution_count": 6,
   "metadata": {},
   "outputs": [
    {
     "name": "stdout",
     "output_type": "stream",
     "text": [
      "Total data loaded : 24\n",
      "starting data train/test separation ...\n",
      "completed separation\n"
     ]
    }
   ],
   "source": [
    "trainer =  train3.TensorFlowTrainer()"
   ]
  },
  {
   "cell_type": "code",
   "execution_count": 5,
   "metadata": {
    "scrolled": true
   },
   "outputs": [
    {
     "name": "stdout",
     "output_type": "stream",
     "text": [
      "Training model ...\n",
      "Strating Lauching of the segmentation model...\n",
      "WARNING:tensorflow:From /home/bigdata-lap/Desktop/ML exercises/model.py:276: The name tf.variable_scope is deprecated. Please use tf.compat.v1.variable_scope instead.\n",
      "\n",
      "WARNING:tensorflow:From /home/bigdata-lap/Desktop/ML exercises/model.py:276: The name tf.AUTO_REUSE is deprecated. Please use tf.compat.v1.AUTO_REUSE instead.\n",
      "\n",
      "WARNING:tensorflow:From /home/bigdata-lap/Desktop/ML exercises/model.py:207: The name tf.image.resize_nearest_neighbor is deprecated. Please use tf.compat.v1.image.resize_nearest_neighbor instead.\n",
      "\n",
      "training_loss => 0.91 for step 0\n",
      "training_loss => 0.91 for step 1\n",
      "training_loss => 0.91 for step 2\n"
     ]
    },
    {
     "data": {
      "text/plain": [
       "<tensorflow.python.client.session.Session at 0x7f1c73db0d90>"
      ]
     },
     "execution_count": 5,
     "metadata": {},
     "output_type": "execute_result"
    }
   ],
   "source": [
    "trainer.predict()"
   ]
  },
  {
   "cell_type": "code",
   "execution_count": 7,
   "metadata": {},
   "outputs": [
    {
     "name": "stdout",
     "output_type": "stream",
     "text": [
      "Training model ...\n",
      "INFO:tensorflow:Restoring parameters from /home/bigdata-lap/Desktop/ML exercises/savedModel/model.ckpt\n",
      "Strating Lauching of the segmentation model...\n",
      "WARNING:tensorflow:From /home/bigdata-lap/Desktop/ML exercises/model.py:275: The name tf.variable_scope is deprecated. Please use tf.compat.v1.variable_scope instead.\n",
      "\n",
      "WARNING:tensorflow:From /home/bigdata-lap/Desktop/ML exercises/model.py:275: The name tf.AUTO_REUSE is deprecated. Please use tf.compat.v1.AUTO_REUSE instead.\n",
      "\n",
      "WARNING:tensorflow:From /home/bigdata-lap/Desktop/ML exercises/model.py:206: The name tf.image.resize_nearest_neighbor is deprecated. Please use tf.compat.v1.image.resize_nearest_neighbor instead.\n",
      "\n",
      "Validating Model ...\n",
      "training_loss / validation_loss => 0.91 / 0.91 for step 0\n",
      "Validating Model ...\n",
      "training_loss => 0.91 for step 1\n",
      "Validating Model ...\n",
      "training_loss / validation_loss => 0.91 / 0.91 for step 2\n"
     ]
    },
    {
     "data": {
      "text/plain": [
       "<tensorflow.python.client.session.Session at 0x7fee8c84e350>"
      ]
     },
     "execution_count": 7,
     "metadata": {},
     "output_type": "execute_result"
    }
   ],
   "source": [
    "trainer.predict(restore=True,validation=True)"
   ]
  },
  {
   "cell_type": "code",
   "execution_count": 12,
   "metadata": {},
   "outputs": [
    {
     "name": "stdout",
     "output_type": "stream",
     "text": [
      "3\n"
     ]
    }
   ],
   "source": [
    "# use the train loss list to plot loss\n",
    "print(len( trainer.trainloss))\n",
    "loss = []\n",
    "prediction = []\n",
    "for i in trainer.trainloss:\n",
    "    loss.append(i[0][0])\n",
    "    prediction.append(i[0][1])\n",
    "    "
   ]
  },
  {
   "cell_type": "code",
   "execution_count": null,
   "metadata": {},
   "outputs": [],
   "source": [
    "# use the validation  loss list to plot loss\n",
    "# this is if you set validation to true\n",
    "print(len( trainer.validationloss))\n",
    "valloss = []\n",
    "valprediction = []\n",
    "for i in trainer.validationloss:\n",
    "    valloss.append(i[0][0])\n",
    "    #valprediction.append(i[0][1])\n",
    "    "
   ]
  },
  {
   "cell_type": "code",
   "execution_count": 19,
   "metadata": {},
   "outputs": [
    {
     "data": {
      "text/plain": [
       "Text(0.5, 0, 'Training epoch')"
      ]
     },
     "execution_count": 19,
     "metadata": {},
     "output_type": "execute_result"
    },
    {
     "data": {
      "image/png": "[encoded data removed]",
      "text/plain": [
       "<Figure size 432x288 with 1 Axes>"
      ]
     },
     "metadata": {
      "needs_background": "light"
     },
     "output_type": "display_data"
    }
   ],
   "source": [
    "plt.plot(loss, 'o--', linewidth=2,color='orange')\n",
    "#plt.plot(valloss, 'o--', linewidth=2,color='green') # uncomment if you set validation to true\n",
    "\n",
    "plt.title(\"Dice Error plot\",fontweight='bold')\n",
    "plt.ylabel(\"Error\",fontweight='bold')\n",
    "plt.xlabel(\"Training epoch\",fontweight='bold')"
   ]
  },
  {
   "cell_type": "code",
   "execution_count": 27,
   "metadata": {},
   "outputs": [],
   "source": [
    "def imageSeg(img):\n",
    "    '''\n",
    "    display \n",
    "\n",
    "    '''\n",
    "    img = Image.fromarray(np.uint8(img * 255) , 'L')\n",
    "    img.show()"
   ]
  },
  {
   "cell_type": "code",
   "execution_count": 34,
   "metadata": {},
   "outputs": [],
   "source": [
    "# to view some of the predicted image\n",
    "imageSeg(prediction[0][2])"
   ]
  },
  {
   "cell_type": "code",
   "execution_count": 38,
   "metadata": {},
   "outputs": [],
   "source": [
    "# image segment for the validation set\n",
    "imageSeg(valprediction[0][2])"
   ]
  },
  {
   "cell_type": "markdown",
   "metadata": {},
   "source": [
    "# Test Model"
   ]
  },
  {
   "cell_type": "code",
   "execution_count": 4,
   "metadata": {},
   "outputs": [
    {
     "name": "stdout",
     "output_type": "stream",
     "text": [
      "Total data loaded : 24\n"
     ]
    }
   ],
   "source": [
    "#tester =  train3.TensorFlowTrainer(validation=False) \n",
    "# set validation to true if you trained with validation==true\n",
    "#  otherwise tensorflow wont be able to load the graph since the key parameters would be different\n"
   ]
  },
  {
   "cell_type": "code",
   "execution_count": 9,
   "metadata": {},
   "outputs": [
    {
     "name": "stdout",
     "output_type": "stream",
     "text": [
      "Model restored (restore set to true.\n",
      "starting model testing\n",
      "INFO:tensorflow:Restoring parameters from /home/bigdata-lap/Desktop/ML exercises/savedModel/model.ckpt\n"
     ]
    },
    {
     "data": {
      "text/plain": [
       "<tensorflow.python.client.session.Session at 0x7fee8c84e350>"
      ]
     },
     "execution_count": 9,
     "metadata": {},
     "output_type": "execute_result"
    }
   ],
   "source": [
    "trainer.predict(restore=True, test=True)"
   ]
  },
  {
   "cell_type": "code",
   "execution_count": 3,
   "metadata": {},
   "outputs": [
    {
     "name": "stdout",
     "output_type": "stream",
     "text": [
      "starting data train/test separation ...\n",
      "completed separation\n",
      "WARNING:tensorflow:From /home/bigdata-lap/Desktop/mypapers/Road_Segment_Identification_CNN-master/ML exercise/ML exercises/train3.py:234: The name tf.Session is deprecated. Please use tf.compat.v1.Session instead.\n",
      "\n",
      "Model restored (restore set to true.\n",
      "starting model testing\n",
      "INFO:tensorflow:Restoring parameters from /home/bigdata-lap/Desktop/mypapers/Road_Segment_Identification_CNN-master/ML exercise/ML exercises/savedModel/model.ckpt\n",
      "WARNING:tensorflow:From /home/bigdata-lap/Desktop/mypapers/Road_Segment_Identification_CNN-master/ML exercise/ML exercises/model.py:254: The name tf.variable_scope is deprecated. Please use tf.compat.v1.variable_scope instead.\n",
      "\n",
      "WARNING:tensorflow:From /home/bigdata-lap/Desktop/mypapers/Road_Segment_Identification_CNN-master/ML exercise/ML exercises/model.py:254: The name tf.AUTO_REUSE is deprecated. Please use tf.compat.v1.AUTO_REUSE instead.\n",
      "\n"
     ]
    }
   ],
   "source": [
    "tester.predict(restore=True, test=True)"
   ]
  },
  {
   "cell_type": "code",
   "execution_count": 13,
   "metadata": {},
   "outputs": [],
   "source": [
    "# use the train loss list to plot loss\n",
    "\n",
    "testloss = []\n",
    "testprediction = []\n",
    "for i in tester.collector:\n",
    "    testloss.append(i[0][0])\n",
    "    testprediction.append(i[0][1])"
   ]
  },
  {
   "cell_type": "code",
   "execution_count": 14,
   "metadata": {},
   "outputs": [
    {
     "data": {
      "text/plain": [
       "Text(0.5, 0, 'Training epoch')"
      ]
     },
     "execution_count": 14,
     "metadata": {},
     "output_type": "execute_result"
    },
    {
     "data": {
      "image/png": "[encoded data removed]",
      "text/plain": [
       "<Figure size 432x288 with 1 Axes>"
      ]
     },
     "metadata": {
      "needs_background": "light"
     },
     "output_type": "display_data"
    }
   ],
   "source": [
    "plt.plot(testloss, 'o--', linewidth=2,color='black')\n",
    "\n",
    "\n",
    "plt.title(\"Dice Error plot\",fontweight='bold')\n",
    "plt.ylabel(\"Error\",fontweight='bold')\n",
    "plt.xlabel(\"Training epoch\",fontweight='bold')"
   ]
  }
 ],
 "metadata": {
  "kernelspec": {
   "display_name": "Python 3",
   "language": "python",
   "name": "python3"
  },
  "language_info": {
   "codemirror_mode": {
    "name": "ipython",
    "version": 3
   },
   "file_extension": ".py",
   "mimetype": "text/x-python",
   "name": "python",
   "nbconvert_exporter": "python",
   "pygments_lexer": "ipython3",
   "version": "3.7.4"
  }
 },
 "nbformat": 4,
 "nbformat_minor": 2
}
